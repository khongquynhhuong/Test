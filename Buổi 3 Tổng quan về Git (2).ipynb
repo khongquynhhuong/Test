{
 "cells": [
  {
   "cell_type": "markdown",
   "id": "fc990a4c",
   "metadata": {},
   "source": [
    "# Xin chào tất cả Học Viên Thân Mên\n",
    "Mình là Giảng viên của lớp PYF2211R1 và đây là file tổng hợp của mỗi một buổi học , tóm tắt các ý chính trong bài cần nắm và nhắm củng cố kiến thức lại cho mọi người khi tiếp cận với ngôn ngữ lập trình python\n",
    "Mình sẽ bắt đầu note từ buổi học thứ 3:\n",
    "Lớp mình sẽ sử dụng thêm một kênh để nộp bài cho mình nữa là Classroom\n",
    "các bạn sử dụng tài khoản gmail join vào lớp.\n",
    "https://classroom.google.com/c/NTc5MzY5ODAwMzY2?cjc=dlzekcc"
   ]
  },
  {
   "cell_type": "markdown",
   "id": "28a562a7",
   "metadata": {},
   "source": [
    "## I -  Sơ lược lại bài cũ về Thuật toán "
   ]
  },
  {
   "cell_type": "markdown",
   "id": "151ce191",
   "metadata": {},
   "source": [
    "Mở đầu mình sẽ đi trả lời từng câu hỏi.\n",
    "## Cách học thuật toán sao cho hiệu quả và rèn luyện ra sao?Cách học :\n",
    "  ### Hiểu\n",
    "    Các bạn phải hiểu được định nghĩa thuật toán là gì. \n",
    "        Thuật toán (Algorithm)/ Giải thuật là bao gồm các chỉ thị để giải quyết một vấn đề.\n",
    "    Các cách biểu thị thuật toán thông dụng :\n",
    "         Mã giả (pseudo-code)\n",
    "         Lưu đồ (Flowchart)\n",
    "  ### Toán\n",
    "    Như các bạn đã biết thì ngay từ cái tên của \"Thuật toán\" đã chứa đựng thuật ngữ \"Toán\" cho nên\n",
    "    các bạn cần phải rèn luyện thêm tư duy về giải quyết các bài toán không những vậy còn giúp ích \n",
    "    cho các bạn rất nhiều trong lúc các bạn code.\n",
    "  ### Phương pháp học \n",
    "    Phương pháp học rất quan trọng với mỗi người chung ta, khi chúng ta bắt đầu học một thứ gì mới thì \n",
    "    luôn luôn sẽ phải tìm ra cho mình một phương pháp học hiệu quả. \n",
    "    Theo như phương pháp của mình thì không có gì khác ngoài rèn luyện liên tục coi việc học thuật toán \n",
    "    như bắt buộc, hãy tưởng tượng nó là một trò chơi nào đó và luyện tập nó hằng ngày.\n",
    "  ### Một số kênh để luyện thuật toán\n",
    "    Các bạn có thể tham khảo các trang web mình và hẳn mọi lập trình viên đã và đang rèn luyện thuật toán \n",
    "    trên đó và với cộng đồng rất là lớn:\n",
    "   #### Leetcode.com\n",
    "   #### hackerrank.com\n",
    "   #### codewars.com\n",
    "     Nguồn học thuật toán vô cùng có lợi cho tất cả các bạn ví dụ như : Internet, Sách,....\n",
    "  ### Cuối cùng \"chia sẻ về kỷ luật bản thân\"\n",
    "    Tất cả mọi người chúng ta đều rất dễ bị sao nhãng bởi những tác động bên ngoài kiến chúng ta khó tập chung \n",
    "    để học nên các bạn có thể lựa chọn cho mình một khoảng thời gian học mà các bạn cho là hiệu quả nhất. \n",
    "    Một số lưu ý khi các bạn học thì nên để điện thoại hay thông báo các mạng xã hội trên web ở chế độ im \n",
    "    lặng hoặc không làm phiền .\n",
    "    Lên kế hoạch và làm ngay , trách có suy nghĩ là tý nữa làm ,tý nữa làm hoặc là làm lúc nào cũng được .\n",
    "    Chính ví vậy sẽ tạo lập cho mình một thói quen đó là trì hoãn cái điều đó thật không nên khi chung ta làm \n",
    "    việc hay học tập.\n",
    "    \n",
    "    \n",
    "   "
   ]
  },
  {
   "cell_type": "markdown",
   "id": "f11c0ab0",
   "metadata": {},
   "source": [
    "# II- Bài học tổng quan về git và cách sử dụng ,cũng như tổng hợp những câu lệnh."
   ]
  },
  {
   "attachments": {},
   "cell_type": "markdown",
   "id": "ec85e9ad",
   "metadata": {},
   "source": [
    "Chúng ta sẽ cùng nhau đi trả lời những câu hỏi như sau:\n",
    "## Git là gì ?\n",
    "Git là một hệ thống điều khiển phiên bản (version control system) theo hình thức phân tán\n",
    "\n",
    "Git được sử dụng để quản lý mã nguồn (source code) và ghi nhận các thay đổi\n",
    "\n",
    "## Github là gì?\n",
    "GitHub là một dịch vụ Git được cung cấp miễn phí\n",
    "\n",
    "GitHub có phiên bản trả phí dành cho các doanh nghiệp\n"
   ]
  },
  {
   "cell_type": "markdown",
   "id": "b100889a",
   "metadata": {},
   "source": [
    "## 1. Cách cài đặt git\n",
    "Các bạn có thể lên trang web: https://git-scm.com/downloads\n",
    "và chọn các git theo hệ điều hành của máy các bạn về sử dụng.\n"
   ]
  },
  {
   "cell_type": "markdown",
   "id": "1b0d5d42",
   "metadata": {},
   "source": [
    "## 2. Các câu lệnh mình tổng hợp\n"
   ]
  },
  {
   "cell_type": "markdown",
   "id": "5ddeefb9",
   "metadata": {},
   "source": [
    "## câu lệnh giúp các bạn kiểm tra được đang sử dụng version git nào.\n",
    "### git -v , --version \n",
    "## Thiết lập chứng thực cá nhân.\n",
    "### git config --global user.name \"User Name\"\n",
    "### git config --global user.email \"username@gmail.com\"\n",
    "Note: --global sẽ là sử dụng cho tất cả các project của các bạn đã có trên github. Còn nếu không sử dụng --global thì sẽ cài đặt chỉ dùng riêng project đó thôi. \n",
    "## Tạo một kho chứa\n",
    "### git init\n",
    "Nếu như bạn muốn theo dõi một dự án cũ trong Git, bạn cần ở trong thư mục của dự án đó. Lệnh này sẽ tạo một thư mục mới có tên .git, thư mục này chứa tất cả các tập tin cần thiết cho kho chứa.\n",
    "## tải một repo đã tồn tại về máy để sửa chữa.\n",
    "### git clone \"link của repo đó\"\n",
    "## Nhánh của git \n",
    "trong mỗi một dự án lớn nếu có nhiều modum khác nhau thì chúng ta sẽ phải sử dụng nhiều nhánh khác nhau để dễ dàng quản lý.\n",
    "## kiểm tra branch hiện tại \n",
    "### git branch\n"
   ]
  },
  {
   "cell_type": "markdown",
   "id": "c635f1f6",
   "metadata": {},
   "source": [
    "## tạo một branch mới\n",
    "### git branch \"name_branch\"\n",
    "## để chuyển và tạo mới \n",
    "### git checkout -b \"name_branch\"\n",
    "## Chuyển nhánh \n",
    "### git checkout \"name_branch\"\n"
   ]
  },
  {
   "cell_type": "markdown",
   "id": "2afbd2ca",
   "metadata": {},
   "source": [
    "## Cập nhật sự thay đổi hoặc đẩy code lên github "
   ]
  },
  {
   "cell_type": "markdown",
   "id": "5c309263",
   "metadata": {},
   "source": [
    "Thêm \n",
    "### git add .\n",
    "commit lại bạn đã thay đổi gì trong code.\n",
    "### git commit -m \"Messager\"\n",
    "Để cập nhật lên sever thì các bạn phải push\n",
    "### git push origin \"name branch\"\n",
    "Ngoài ra, nếu chưa tồn tại remote trên server thì bạn cần phải add mới một remote trước rồi mới push:\n",
    "### git remote add origin <remote_url>\n",
    "### git push origin <name_branch>"
   ]
  },
  {
   "cell_type": "markdown",
   "id": "92556c54",
   "metadata": {},
   "source": [
    "## Bài tập về nhà \n",
    "Các bạn sử dụng Jupyter Notebook tạo ra một file chương trình sử dụng lệnh print bao gồm có :\n",
    "    Thông tin các nhân \n",
    "    Nơi ở \n",
    "    định hướng tương lai\n",
    "Tạo một repo trên github sử dụng câu lệnh đã được học đẩy lên cáp lại màn hình nộp file ảnh khi các bạn đã hoàn thành việc upfile lên trên github nộp qua classroom."
   ]
  }
 ],
 "metadata": {
  "kernelspec": {
   "display_name": "Python 3 (ipykernel)",
   "language": "python",
   "name": "python3"
  },
  "language_info": {
   "codemirror_mode": {
    "name": "ipython",
    "version": 3
   },
   "file_extension": ".py",
   "mimetype": "text/x-python",
   "name": "python",
   "nbconvert_exporter": "python",
   "pygments_lexer": "ipython3",
   "version": "3.9.13"
  }
 },
 "nbformat": 4,
 "nbformat_minor": 5
}
